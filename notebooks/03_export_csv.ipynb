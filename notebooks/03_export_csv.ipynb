{
 "cells": [
  {
   "cell_type": "code",
   "execution_count": 53,
   "id": "537751ee",
   "metadata": {},
   "outputs": [],
   "source": [
    "import duckdb\n",
    "import pandas as pd\n",
    "import os"
   ]
  },
  {
   "cell_type": "code",
   "execution_count": 54,
   "id": "00112545",
   "metadata": {},
   "outputs": [],
   "source": [
    "db_path = os.path.join('..', 'dev.duckdb')\n",
    "output_path = os.path.join('..', 'outputs')\n",
    "os.makedirs(output_path, exist_ok=True)"
   ]
  },
  {
   "cell_type": "code",
   "execution_count": 55,
   "id": "54671178",
   "metadata": {},
   "outputs": [],
   "source": [
    "con = duckdb.connect(db_path)\n",
    "\n",
    "exports = {\n",
    "    \"mrt_daily_summary\": \"mrt_daily_summary.csv\",\n",
    "    \"mrt_weekday_patterns\": \"mrt_weekday_patterns.csv\",\n",
    "    \"mrt_service_trends\": \"mrt_service_trends.csv\",\n",
    "    \"mrt_anomaly_flags\": \"mrt_anomaly_flags.csv\",\n",
    "}"
   ]
  },
  {
   "cell_type": "code",
   "execution_count": 56,
   "id": "f60463ad",
   "metadata": {},
   "outputs": [
    {
     "name": "stdout",
     "output_type": "stream",
     "text": [
      "Exportando mrt_daily_summary → mrt_daily_summary.csv\n",
      "Exportando mrt_weekday_patterns → mrt_weekday_patterns.csv\n",
      "Exportando mrt_service_trends → mrt_service_trends.csv\n",
      "Exportando mrt_anomaly_flags → mrt_anomaly_flags.csv\n"
     ]
    }
   ],
   "source": [
    "for model, filename in exports.items():\n",
    "    print(f\"Exportando {model} → {filename}\")\n",
    "    df = con.execute(f\"SELECT * FROM {model}\").df()\n",
    "    df.to_csv(os.path.join(output_path, filename), index=False)"
   ]
  },
  {
   "cell_type": "code",
   "execution_count": 57,
   "id": "2799b79d",
   "metadata": {},
   "outputs": [],
   "source": [
    "con.close()"
   ]
  }
 ],
 "metadata": {
  "kernelspec": {
   "display_name": "venv (3.13.2)",
   "language": "python",
   "name": "python3"
  },
  "language_info": {
   "codemirror_mode": {
    "name": "ipython",
    "version": 3
   },
   "file_extension": ".py",
   "mimetype": "text/x-python",
   "name": "python",
   "nbconvert_exporter": "python",
   "pygments_lexer": "ipython3",
   "version": "3.13.2"
  }
 },
 "nbformat": 4,
 "nbformat_minor": 5
}
